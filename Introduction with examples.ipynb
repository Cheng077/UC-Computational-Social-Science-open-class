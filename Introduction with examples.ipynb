{
 "cells": [
  {
   "cell_type": "markdown",
   "id": "189b5e08-a6cd-43ac-8cca-3be190ba49ba",
   "metadata": {},
   "source": [
    "### Introduction to computational social science"
   ]
  },
  {
   "cell_type": "code",
   "execution_count": null,
   "id": "4b205af1-2471-4395-a6b6-f5e8b8a073fe",
   "metadata": {},
   "outputs": [],
   "source": []
  }
 ],
 "metadata": {
  "kernelspec": {
   "display_name": "Python 3 (ipykernel)",
   "language": "python",
   "name": "python3"
  },
  "language_info": {
   "codemirror_mode": {
    "name": "ipython",
    "version": 3
   },
   "file_extension": ".py",
   "mimetype": "text/x-python",
   "name": "python",
   "nbconvert_exporter": "python",
   "pygments_lexer": "ipython3",
   "version": "3.12.2"
  }
 },
 "nbformat": 4,
 "nbformat_minor": 5
}
